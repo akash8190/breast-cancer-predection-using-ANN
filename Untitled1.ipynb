{
  "nbformat": 4,
  "nbformat_minor": 0,
  "metadata": {
    "colab": {
      "name": "Untitled1.ipynb",
      "provenance": [],
      "mount_file_id": "11B9q6BMDXiuzHEnbi8gl3EmxerglBTWD",
      "authorship_tag": "ABX9TyP3CkgmwATIj6mVfiVII1Sp",
      "include_colab_link": true
    },
    "kernelspec": {
      "name": "python3",
      "display_name": "Python 3"
    },
    "accelerator": "GPU"
  },
  "cells": [
    {
      "cell_type": "markdown",
      "metadata": {
        "id": "view-in-github",
        "colab_type": "text"
      },
      "source": [
        "<a href=\"https://colab.research.google.com/github/akash8190/breast-cancer-predection-using-ANN/blob/master/Untitled1.ipynb\" target=\"_parent\"><img src=\"https://colab.research.google.com/assets/colab-badge.svg\" alt=\"Open In Colab\"/></a>"
      ]
    },
    {
      "cell_type": "code",
      "metadata": {
        "id": "lwqVhgfGl261",
        "colab_type": "code",
        "colab": {
          "base_uri": "https://localhost:8080/",
          "height": 71
        },
        "outputId": "6f18667e-3123-4c21-8453-f5554b1c07c2"
      },
      "source": [
        "# Importing libraries\n",
        "import pandas as pd\n",
        "import numpy as np\n",
        "import matplotlib.pyplot as plt\n",
        "import seaborn as sns\n",
        "\n",
        "# Importing data\n",
        "data = pd.read_csv('/content/drive/My Drive/breastcancer data.csv')\n",
        "del data['Unnamed: 32']\n",
        "\n"
      ],
      "execution_count": 14,
      "outputs": [
        {
          "output_type": "stream",
          "text": [
            "/usr/local/lib/python3.6/dist-packages/statsmodels/tools/_testing.py:19: FutureWarning: pandas.util.testing is deprecated. Use the functions in the public API at pandas.testing instead.\n",
            "  import pandas.util.testing as tm\n"
          ],
          "name": "stderr"
        }
      ]
    },
    {
      "cell_type": "code",
      "metadata": {
        "id": "vmtq5ZFUnxbY",
        "colab_type": "code",
        "colab": {}
      },
      "source": [
        "X = data.iloc[:, 2:].values\n",
        "y = data.iloc[:, 1].values\n",
        "\n",
        "# Encoding categorical data\n",
        "from sklearn.preprocessing import LabelEncoder\n",
        "labelencoder_X_1 = LabelEncoder()\n",
        "y = labelencoder_X_1.fit_transform(y)\n",
        "\n",
        "# Splitting the dataset into the Training set and Test set\n",
        "from sklearn.model_selection import train_test_split\n",
        "X_train, X_test, y_train, y_test = train_test_split(X, y, test_size = 0.1, random_state = 0)\n",
        "\n",
        "#Feature Scaling\n",
        "from sklearn.preprocessing import StandardScaler\n",
        "sc = StandardScaler()\n",
        "X_train = sc.fit_transform(X_train)\n",
        "X_test = sc.transform(X_test)\n"
      ],
      "execution_count": 15,
      "outputs": []
    },
    {
      "cell_type": "code",
      "metadata": {
        "id": "ccYHCUcJnxxm",
        "colab_type": "code",
        "colab": {
          "base_uri": "https://localhost:8080/",
          "height": 34
        },
        "outputId": "328ec4db-9d19-40a0-d168-2fe6a95d56a7"
      },
      "source": [
        "import keras\n",
        "from keras.models import Sequential\n",
        "from keras.layers import Dense, Dropout\n",
        "from keras.models import load_model\n",
        "\n",
        "\n"
      ],
      "execution_count": 3,
      "outputs": [
        {
          "output_type": "stream",
          "text": [
            "Using TensorFlow backend.\n"
          ],
          "name": "stderr"
        }
      ]
    },
    {
      "cell_type": "code",
      "metadata": {
        "id": "CzDgrYnVoKCa",
        "colab_type": "code",
        "colab": {}
      },
      "source": [
        "# Initialising the ANN\n",
        "classifier = Sequential()"
      ],
      "execution_count": 4,
      "outputs": []
    },
    {
      "cell_type": "code",
      "metadata": {
        "id": "eEgZYP44oKTY",
        "colab_type": "code",
        "colab": {
          "base_uri": "https://localhost:8080/",
          "height": 105
        },
        "outputId": "ed45d61a-cc5a-4c65-982b-6af41d8ac14c"
      },
      "source": [
        "# Adding the input layer and the first hidden layer\n",
        "classifier.add(Dense(output_dim=16, init='uniform', activation='relu', input_dim=30))\n",
        "# Adding dropout to prevent overfitting\n",
        "classifier.add(Dropout(p=0.1))"
      ],
      "execution_count": 8,
      "outputs": [
        {
          "output_type": "stream",
          "text": [
            "/usr/local/lib/python3.6/dist-packages/ipykernel_launcher.py:2: UserWarning: Update your `Dense` call to the Keras 2 API: `Dense(activation=\"relu\", input_dim=30, units=16, kernel_initializer=\"uniform\")`\n",
            "  \n",
            "/usr/local/lib/python3.6/dist-packages/ipykernel_launcher.py:4: UserWarning: Update your `Dropout` call to the Keras 2 API: `Dropout(rate=0.1)`\n",
            "  after removing the cwd from sys.path.\n"
          ],
          "name": "stderr"
        }
      ]
    },
    {
      "cell_type": "code",
      "metadata": {
        "id": "-7w-aoBBoKe9",
        "colab_type": "code",
        "colab": {
          "base_uri": "https://localhost:8080/",
          "height": 105
        },
        "outputId": "b8d5b8a2-7250-49cb-9e6b-69b05dc6f094"
      },
      "source": [
        "# Adding the second hidden layer\n",
        "classifier.add(Dense(output_dim=16, init='uniform', activation='relu'))\n",
        "# Adding dropout to prevent overfitting\n",
        "classifier.add(Dropout(p=0.1))"
      ],
      "execution_count": 9,
      "outputs": [
        {
          "output_type": "stream",
          "text": [
            "/usr/local/lib/python3.6/dist-packages/ipykernel_launcher.py:2: UserWarning: Update your `Dense` call to the Keras 2 API: `Dense(activation=\"relu\", units=16, kernel_initializer=\"uniform\")`\n",
            "  \n",
            "/usr/local/lib/python3.6/dist-packages/ipykernel_launcher.py:4: UserWarning: Update your `Dropout` call to the Keras 2 API: `Dropout(rate=0.1)`\n",
            "  after removing the cwd from sys.path.\n"
          ],
          "name": "stderr"
        }
      ]
    },
    {
      "cell_type": "code",
      "metadata": {
        "id": "CuplGhl-orRv",
        "colab_type": "code",
        "colab": {
          "base_uri": "https://localhost:8080/",
          "height": 71
        },
        "outputId": "3725e29d-d7a0-425e-dffc-6be873879c90"
      },
      "source": [
        "# Adding the output layer\n",
        "classifier.add(Dense(output_dim=1, init='uniform', activation='sigmoid'))"
      ],
      "execution_count": 10,
      "outputs": [
        {
          "output_type": "stream",
          "text": [
            "/usr/local/lib/python3.6/dist-packages/ipykernel_launcher.py:2: UserWarning: Update your `Dense` call to the Keras 2 API: `Dense(activation=\"sigmoid\", units=1, kernel_initializer=\"uniform\")`\n",
            "  \n"
          ],
          "name": "stderr"
        }
      ]
    },
    {
      "cell_type": "code",
      "metadata": {
        "id": "W5IKj2Pzorfi",
        "colab_type": "code",
        "colab": {}
      },
      "source": [
        "# Compiling the ANN\n",
        "classifier.compile(optimizer='adam', loss='binary_crossentropy', metrics=['accuracy'])"
      ],
      "execution_count": 11,
      "outputs": []
    },
    {
      "cell_type": "code",
      "metadata": {
        "id": "VBW1bx8Po7p4",
        "colab_type": "code",
        "colab": {
          "base_uri": "https://localhost:8080/",
          "height": 1000
        },
        "outputId": "d14ed40a-b8fd-449b-9d29-205389d55046"
      },
      "source": [
        "# Fitting the ANN to the Training set\n",
        "\n",
        "classifier.fit(X_train, y_train, batch_size=100, nb_epoch=150)\n",
        "# Long scroll ahead but worth\n",
        "# The batch size and number of epochs have been set using trial and error. Still looking for more efficient ways. Open to suggestions. \n"
      ],
      "execution_count": 16,
      "outputs": [
        {
          "output_type": "stream",
          "text": [
            "/usr/local/lib/python3.6/dist-packages/ipykernel_launcher.py:3: UserWarning: The `nb_epoch` argument in `fit` has been renamed `epochs`.\n",
            "  This is separate from the ipykernel package so we can avoid doing imports until\n"
          ],
          "name": "stderr"
        },
        {
          "output_type": "stream",
          "text": [
            "Epoch 1/150\n",
            "512/512 [==============================] - 2s 4ms/step - loss: 0.6928 - accuracy: 0.6191\n",
            "Epoch 2/150\n",
            "512/512 [==============================] - 0s 68us/step - loss: 0.6918 - accuracy: 0.6289\n",
            "Epoch 3/150\n",
            "512/512 [==============================] - 0s 71us/step - loss: 0.6908 - accuracy: 0.6289\n",
            "Epoch 4/150\n",
            "512/512 [==============================] - 0s 70us/step - loss: 0.6896 - accuracy: 0.6289\n",
            "Epoch 5/150\n",
            "512/512 [==============================] - 0s 70us/step - loss: 0.6884 - accuracy: 0.6289\n",
            "Epoch 6/150\n",
            "512/512 [==============================] - 0s 74us/step - loss: 0.6871 - accuracy: 0.6289\n",
            "Epoch 7/150\n",
            "512/512 [==============================] - 0s 73us/step - loss: 0.6852 - accuracy: 0.6289\n",
            "Epoch 8/150\n",
            "512/512 [==============================] - 0s 64us/step - loss: 0.6825 - accuracy: 0.6289\n",
            "Epoch 9/150\n",
            "512/512 [==============================] - 0s 73us/step - loss: 0.6782 - accuracy: 0.6289\n",
            "Epoch 10/150\n",
            "512/512 [==============================] - 0s 70us/step - loss: 0.6701 - accuracy: 0.6289\n",
            "Epoch 11/150\n",
            "512/512 [==============================] - 0s 74us/step - loss: 0.6552 - accuracy: 0.6289\n",
            "Epoch 12/150\n",
            "512/512 [==============================] - 0s 72us/step - loss: 0.6262 - accuracy: 0.6289\n",
            "Epoch 13/150\n",
            "512/512 [==============================] - 0s 70us/step - loss: 0.5827 - accuracy: 0.6289\n",
            "Epoch 14/150\n",
            "512/512 [==============================] - 0s 75us/step - loss: 0.5164 - accuracy: 0.6289\n",
            "Epoch 15/150\n",
            "512/512 [==============================] - 0s 71us/step - loss: 0.4360 - accuracy: 0.6289\n",
            "Epoch 16/150\n",
            "512/512 [==============================] - 0s 73us/step - loss: 0.3744 - accuracy: 0.6289\n",
            "Epoch 17/150\n",
            "512/512 [==============================] - 0s 77us/step - loss: 0.3399 - accuracy: 0.6348\n",
            "Epoch 18/150\n",
            "512/512 [==============================] - 0s 72us/step - loss: 0.3207 - accuracy: 0.7539\n",
            "Epoch 19/150\n",
            "512/512 [==============================] - 0s 74us/step - loss: 0.3096 - accuracy: 0.8730\n",
            "Epoch 20/150\n",
            "512/512 [==============================] - 0s 79us/step - loss: 0.2902 - accuracy: 0.9551\n",
            "Epoch 21/150\n",
            "512/512 [==============================] - 0s 72us/step - loss: 0.2785 - accuracy: 0.9727\n",
            "Epoch 22/150\n",
            "512/512 [==============================] - 0s 84us/step - loss: 0.2399 - accuracy: 0.9746\n",
            "Epoch 23/150\n",
            "512/512 [==============================] - 0s 67us/step - loss: 0.2209 - accuracy: 0.9746\n",
            "Epoch 24/150\n",
            "512/512 [==============================] - 0s 74us/step - loss: 0.1728 - accuracy: 0.9805\n",
            "Epoch 25/150\n",
            "512/512 [==============================] - 0s 68us/step - loss: 0.1269 - accuracy: 0.9805\n",
            "Epoch 26/150\n",
            "512/512 [==============================] - 0s 69us/step - loss: 0.1120 - accuracy: 0.9785\n",
            "Epoch 27/150\n",
            "512/512 [==============================] - 0s 79us/step - loss: 0.0967 - accuracy: 0.9785\n",
            "Epoch 28/150\n",
            "512/512 [==============================] - 0s 86us/step - loss: 0.0794 - accuracy: 0.9824\n",
            "Epoch 29/150\n",
            "512/512 [==============================] - 0s 73us/step - loss: 0.0800 - accuracy: 0.9805\n",
            "Epoch 30/150\n",
            "512/512 [==============================] - 0s 71us/step - loss: 0.0823 - accuracy: 0.9805\n",
            "Epoch 31/150\n",
            "512/512 [==============================] - 0s 70us/step - loss: 0.0663 - accuracy: 0.9805\n",
            "Epoch 32/150\n",
            "512/512 [==============================] - 0s 73us/step - loss: 0.0695 - accuracy: 0.9805\n",
            "Epoch 33/150\n",
            "512/512 [==============================] - 0s 79us/step - loss: 0.0694 - accuracy: 0.9805\n",
            "Epoch 34/150\n",
            "512/512 [==============================] - 0s 71us/step - loss: 0.0653 - accuracy: 0.9805\n",
            "Epoch 35/150\n",
            "512/512 [==============================] - 0s 68us/step - loss: 0.0717 - accuracy: 0.9824\n",
            "Epoch 36/150\n",
            "512/512 [==============================] - 0s 66us/step - loss: 0.0724 - accuracy: 0.9824\n",
            "Epoch 37/150\n",
            "512/512 [==============================] - 0s 72us/step - loss: 0.0643 - accuracy: 0.9805\n",
            "Epoch 38/150\n",
            "512/512 [==============================] - 0s 74us/step - loss: 0.0584 - accuracy: 0.9824\n",
            "Epoch 39/150\n",
            "512/512 [==============================] - 0s 74us/step - loss: 0.0627 - accuracy: 0.9824\n",
            "Epoch 40/150\n",
            "512/512 [==============================] - 0s 72us/step - loss: 0.0634 - accuracy: 0.9824\n",
            "Epoch 41/150\n",
            "512/512 [==============================] - 0s 76us/step - loss: 0.0678 - accuracy: 0.9824\n",
            "Epoch 42/150\n",
            "512/512 [==============================] - 0s 73us/step - loss: 0.0600 - accuracy: 0.9824\n",
            "Epoch 43/150\n",
            "512/512 [==============================] - 0s 68us/step - loss: 0.0639 - accuracy: 0.9824\n",
            "Epoch 44/150\n",
            "512/512 [==============================] - 0s 93us/step - loss: 0.0537 - accuracy: 0.9844\n",
            "Epoch 45/150\n",
            "512/512 [==============================] - 0s 66us/step - loss: 0.0571 - accuracy: 0.9844\n",
            "Epoch 46/150\n",
            "512/512 [==============================] - 0s 65us/step - loss: 0.0531 - accuracy: 0.9844\n",
            "Epoch 47/150\n",
            "512/512 [==============================] - 0s 79us/step - loss: 0.0582 - accuracy: 0.9824\n",
            "Epoch 48/150\n",
            "512/512 [==============================] - 0s 69us/step - loss: 0.0508 - accuracy: 0.9863\n",
            "Epoch 49/150\n",
            "512/512 [==============================] - 0s 70us/step - loss: 0.0543 - accuracy: 0.9844\n",
            "Epoch 50/150\n",
            "512/512 [==============================] - 0s 68us/step - loss: 0.0516 - accuracy: 0.9863\n",
            "Epoch 51/150\n",
            "512/512 [==============================] - 0s 69us/step - loss: 0.0518 - accuracy: 0.9863\n",
            "Epoch 52/150\n",
            "512/512 [==============================] - 0s 72us/step - loss: 0.0542 - accuracy: 0.9863\n",
            "Epoch 53/150\n",
            "512/512 [==============================] - 0s 72us/step - loss: 0.0541 - accuracy: 0.9844\n",
            "Epoch 54/150\n",
            "512/512 [==============================] - 0s 72us/step - loss: 0.0532 - accuracy: 0.9844\n",
            "Epoch 55/150\n",
            "512/512 [==============================] - 0s 71us/step - loss: 0.0516 - accuracy: 0.9824\n",
            "Epoch 56/150\n",
            "512/512 [==============================] - 0s 67us/step - loss: 0.0524 - accuracy: 0.9863\n",
            "Epoch 57/150\n",
            "512/512 [==============================] - 0s 79us/step - loss: 0.0574 - accuracy: 0.9824\n",
            "Epoch 58/150\n",
            "512/512 [==============================] - 0s 74us/step - loss: 0.0515 - accuracy: 0.9844\n",
            "Epoch 59/150\n",
            "512/512 [==============================] - 0s 75us/step - loss: 0.0527 - accuracy: 0.9883\n",
            "Epoch 60/150\n",
            "512/512 [==============================] - 0s 75us/step - loss: 0.0393 - accuracy: 0.9863\n",
            "Epoch 61/150\n",
            "512/512 [==============================] - 0s 67us/step - loss: 0.0539 - accuracy: 0.9844\n",
            "Epoch 62/150\n",
            "512/512 [==============================] - 0s 75us/step - loss: 0.0466 - accuracy: 0.9883\n",
            "Epoch 63/150\n",
            "512/512 [==============================] - 0s 70us/step - loss: 0.0490 - accuracy: 0.9883\n",
            "Epoch 64/150\n",
            "512/512 [==============================] - 0s 69us/step - loss: 0.0442 - accuracy: 0.9863\n",
            "Epoch 65/150\n",
            "512/512 [==============================] - 0s 68us/step - loss: 0.0459 - accuracy: 0.9883\n",
            "Epoch 66/150\n",
            "512/512 [==============================] - 0s 71us/step - loss: 0.0466 - accuracy: 0.9883\n",
            "Epoch 67/150\n",
            "512/512 [==============================] - 0s 70us/step - loss: 0.0455 - accuracy: 0.9883\n",
            "Epoch 68/150\n",
            "512/512 [==============================] - 0s 73us/step - loss: 0.0418 - accuracy: 0.9883\n",
            "Epoch 69/150\n",
            "512/512 [==============================] - 0s 91us/step - loss: 0.0460 - accuracy: 0.9883\n",
            "Epoch 70/150\n",
            "512/512 [==============================] - 0s 71us/step - loss: 0.0499 - accuracy: 0.9883\n",
            "Epoch 71/150\n",
            "512/512 [==============================] - 0s 84us/step - loss: 0.0437 - accuracy: 0.9902\n",
            "Epoch 72/150\n",
            "512/512 [==============================] - 0s 68us/step - loss: 0.0449 - accuracy: 0.9902\n",
            "Epoch 73/150\n",
            "512/512 [==============================] - 0s 71us/step - loss: 0.0372 - accuracy: 0.9883\n",
            "Epoch 74/150\n",
            "512/512 [==============================] - 0s 68us/step - loss: 0.0407 - accuracy: 0.9883\n",
            "Epoch 75/150\n",
            "512/512 [==============================] - 0s 67us/step - loss: 0.0338 - accuracy: 0.9922\n",
            "Epoch 76/150\n",
            "512/512 [==============================] - 0s 69us/step - loss: 0.0364 - accuracy: 0.9922\n",
            "Epoch 77/150\n",
            "512/512 [==============================] - 0s 72us/step - loss: 0.0493 - accuracy: 0.9902\n",
            "Epoch 78/150\n",
            "512/512 [==============================] - 0s 68us/step - loss: 0.0397 - accuracy: 0.9902\n",
            "Epoch 79/150\n",
            "512/512 [==============================] - 0s 71us/step - loss: 0.0401 - accuracy: 0.9922\n",
            "Epoch 80/150\n",
            "512/512 [==============================] - 0s 74us/step - loss: 0.0397 - accuracy: 0.9902\n",
            "Epoch 81/150\n",
            "512/512 [==============================] - 0s 69us/step - loss: 0.0419 - accuracy: 0.9902\n",
            "Epoch 82/150\n",
            "512/512 [==============================] - 0s 68us/step - loss: 0.0362 - accuracy: 0.9902\n",
            "Epoch 83/150\n",
            "512/512 [==============================] - 0s 74us/step - loss: 0.0415 - accuracy: 0.9922\n",
            "Epoch 84/150\n",
            "512/512 [==============================] - 0s 77us/step - loss: 0.0344 - accuracy: 0.9902\n",
            "Epoch 85/150\n",
            "512/512 [==============================] - 0s 70us/step - loss: 0.0383 - accuracy: 0.9902\n",
            "Epoch 86/150\n",
            "512/512 [==============================] - 0s 65us/step - loss: 0.0357 - accuracy: 0.9902\n",
            "Epoch 87/150\n",
            "512/512 [==============================] - 0s 67us/step - loss: 0.0431 - accuracy: 0.9902\n",
            "Epoch 88/150\n",
            "512/512 [==============================] - 0s 74us/step - loss: 0.0384 - accuracy: 0.9922\n",
            "Epoch 89/150\n",
            "512/512 [==============================] - 0s 76us/step - loss: 0.0330 - accuracy: 0.9922\n",
            "Epoch 90/150\n",
            "512/512 [==============================] - 0s 78us/step - loss: 0.0403 - accuracy: 0.9922\n",
            "Epoch 91/150\n",
            "512/512 [==============================] - 0s 71us/step - loss: 0.0363 - accuracy: 0.9922\n",
            "Epoch 92/150\n",
            "512/512 [==============================] - 0s 70us/step - loss: 0.0373 - accuracy: 0.9922\n",
            "Epoch 93/150\n",
            "512/512 [==============================] - 0s 68us/step - loss: 0.0390 - accuracy: 0.9883\n",
            "Epoch 94/150\n",
            "512/512 [==============================] - 0s 99us/step - loss: 0.0358 - accuracy: 0.9902\n",
            "Epoch 95/150\n",
            "512/512 [==============================] - 0s 69us/step - loss: 0.0373 - accuracy: 0.9902\n",
            "Epoch 96/150\n",
            "512/512 [==============================] - 0s 87us/step - loss: 0.0397 - accuracy: 0.9902\n",
            "Epoch 97/150\n",
            "512/512 [==============================] - 0s 69us/step - loss: 0.0362 - accuracy: 0.9922\n",
            "Epoch 98/150\n",
            "512/512 [==============================] - 0s 81us/step - loss: 0.0390 - accuracy: 0.9922\n",
            "Epoch 99/150\n",
            "512/512 [==============================] - 0s 69us/step - loss: 0.0397 - accuracy: 0.9922\n",
            "Epoch 100/150\n",
            "512/512 [==============================] - 0s 70us/step - loss: 0.0327 - accuracy: 0.9922\n",
            "Epoch 101/150\n",
            "512/512 [==============================] - 0s 75us/step - loss: 0.0306 - accuracy: 0.9922\n",
            "Epoch 102/150\n",
            "512/512 [==============================] - 0s 70us/step - loss: 0.0343 - accuracy: 0.9902\n",
            "Epoch 103/150\n",
            "512/512 [==============================] - 0s 70us/step - loss: 0.0342 - accuracy: 0.9902\n",
            "Epoch 104/150\n",
            "512/512 [==============================] - 0s 67us/step - loss: 0.0327 - accuracy: 0.9922\n",
            "Epoch 105/150\n",
            "512/512 [==============================] - 0s 69us/step - loss: 0.0303 - accuracy: 0.9883\n",
            "Epoch 106/150\n",
            "512/512 [==============================] - 0s 67us/step - loss: 0.0330 - accuracy: 0.9922\n",
            "Epoch 107/150\n",
            "512/512 [==============================] - 0s 71us/step - loss: 0.0470 - accuracy: 0.9902\n",
            "Epoch 108/150\n",
            "512/512 [==============================] - 0s 73us/step - loss: 0.0362 - accuracy: 0.9902\n",
            "Epoch 109/150\n",
            "512/512 [==============================] - 0s 73us/step - loss: 0.0405 - accuracy: 0.9902\n",
            "Epoch 110/150\n",
            "512/512 [==============================] - 0s 73us/step - loss: 0.0329 - accuracy: 0.9922\n",
            "Epoch 111/150\n",
            "512/512 [==============================] - 0s 74us/step - loss: 0.0343 - accuracy: 0.9922\n",
            "Epoch 112/150\n",
            "512/512 [==============================] - 0s 80us/step - loss: 0.0280 - accuracy: 0.9922\n",
            "Epoch 113/150\n",
            "512/512 [==============================] - 0s 77us/step - loss: 0.0322 - accuracy: 0.9922\n",
            "Epoch 114/150\n",
            "512/512 [==============================] - 0s 72us/step - loss: 0.0344 - accuracy: 0.9922\n",
            "Epoch 115/150\n",
            "512/512 [==============================] - 0s 69us/step - loss: 0.0337 - accuracy: 0.9883\n",
            "Epoch 116/150\n",
            "512/512 [==============================] - 0s 75us/step - loss: 0.0318 - accuracy: 0.9922\n",
            "Epoch 117/150\n",
            "512/512 [==============================] - 0s 75us/step - loss: 0.0332 - accuracy: 0.9922\n",
            "Epoch 118/150\n",
            "512/512 [==============================] - 0s 71us/step - loss: 0.0333 - accuracy: 0.9922\n",
            "Epoch 119/150\n",
            "512/512 [==============================] - 0s 85us/step - loss: 0.0449 - accuracy: 0.9902\n",
            "Epoch 120/150\n",
            "512/512 [==============================] - 0s 67us/step - loss: 0.0331 - accuracy: 0.9902\n",
            "Epoch 121/150\n",
            "512/512 [==============================] - 0s 80us/step - loss: 0.0367 - accuracy: 0.9922\n",
            "Epoch 122/150\n",
            "512/512 [==============================] - 0s 67us/step - loss: 0.0304 - accuracy: 0.9922\n",
            "Epoch 123/150\n",
            "512/512 [==============================] - 0s 69us/step - loss: 0.0399 - accuracy: 0.9922\n",
            "Epoch 124/150\n",
            "512/512 [==============================] - 0s 68us/step - loss: 0.0298 - accuracy: 0.9922\n",
            "Epoch 125/150\n",
            "512/512 [==============================] - 0s 74us/step - loss: 0.0362 - accuracy: 0.9922\n",
            "Epoch 126/150\n",
            "512/512 [==============================] - 0s 72us/step - loss: 0.0394 - accuracy: 0.9883\n",
            "Epoch 127/150\n",
            "512/512 [==============================] - 0s 72us/step - loss: 0.0323 - accuracy: 0.9902\n",
            "Epoch 128/150\n",
            "512/512 [==============================] - 0s 82us/step - loss: 0.0374 - accuracy: 0.9902\n",
            "Epoch 129/150\n",
            "512/512 [==============================] - 0s 70us/step - loss: 0.0309 - accuracy: 0.9922\n",
            "Epoch 130/150\n",
            "512/512 [==============================] - 0s 81us/step - loss: 0.0337 - accuracy: 0.9902\n",
            "Epoch 131/150\n",
            "512/512 [==============================] - 0s 69us/step - loss: 0.0313 - accuracy: 0.9902\n",
            "Epoch 132/150\n",
            "512/512 [==============================] - 0s 68us/step - loss: 0.0261 - accuracy: 0.9922\n",
            "Epoch 133/150\n",
            "512/512 [==============================] - 0s 70us/step - loss: 0.0335 - accuracy: 0.9922\n",
            "Epoch 134/150\n",
            "512/512 [==============================] - 0s 70us/step - loss: 0.0301 - accuracy: 0.9922\n",
            "Epoch 135/150\n",
            "512/512 [==============================] - 0s 67us/step - loss: 0.0307 - accuracy: 0.9922\n",
            "Epoch 136/150\n",
            "512/512 [==============================] - 0s 78us/step - loss: 0.0298 - accuracy: 0.9922\n",
            "Epoch 137/150\n",
            "512/512 [==============================] - 0s 76us/step - loss: 0.0284 - accuracy: 0.9922\n",
            "Epoch 138/150\n",
            "512/512 [==============================] - 0s 66us/step - loss: 0.0328 - accuracy: 0.9922\n",
            "Epoch 139/150\n",
            "512/512 [==============================] - 0s 76us/step - loss: 0.0296 - accuracy: 0.9902\n",
            "Epoch 140/150\n",
            "512/512 [==============================] - 0s 76us/step - loss: 0.0395 - accuracy: 0.9883\n",
            "Epoch 141/150\n",
            "512/512 [==============================] - 0s 72us/step - loss: 0.0292 - accuracy: 0.9922\n",
            "Epoch 142/150\n",
            "512/512 [==============================] - 0s 76us/step - loss: 0.0286 - accuracy: 0.9922\n",
            "Epoch 143/150\n",
            "512/512 [==============================] - 0s 68us/step - loss: 0.0466 - accuracy: 0.9902\n",
            "Epoch 144/150\n",
            "512/512 [==============================] - 0s 100us/step - loss: 0.0284 - accuracy: 0.9922\n",
            "Epoch 145/150\n",
            "512/512 [==============================] - 0s 82us/step - loss: 0.0316 - accuracy: 0.9922\n",
            "Epoch 146/150\n",
            "512/512 [==============================] - 0s 67us/step - loss: 0.0299 - accuracy: 0.9922\n",
            "Epoch 147/150\n",
            "512/512 [==============================] - 0s 72us/step - loss: 0.0268 - accuracy: 0.9922\n",
            "Epoch 148/150\n",
            "512/512 [==============================] - 0s 69us/step - loss: 0.0278 - accuracy: 0.9922\n",
            "Epoch 149/150\n",
            "512/512 [==============================] - 0s 68us/step - loss: 0.0268 - accuracy: 0.9922\n",
            "Epoch 150/150\n",
            "512/512 [==============================] - 0s 75us/step - loss: 0.0255 - accuracy: 0.9922\n"
          ],
          "name": "stdout"
        },
        {
          "output_type": "execute_result",
          "data": {
            "text/plain": [
              "<keras.callbacks.callbacks.History at 0x7f2f104fc240>"
            ]
          },
          "metadata": {
            "tags": []
          },
          "execution_count": 16
        }
      ]
    },
    {
      "cell_type": "code",
      "metadata": {
        "id": "H9PEuNcDo70m",
        "colab_type": "code",
        "colab": {}
      },
      "source": [
        "# Predicting the Test set results\n",
        "y_pred = classifier.predict(X_test)\n",
        "y_pred = (y_pred > 0.5)\n"
      ],
      "execution_count": 17,
      "outputs": []
    },
    {
      "cell_type": "code",
      "metadata": {
        "id": "yzaHcUdio74d",
        "colab_type": "code",
        "colab": {}
      },
      "source": [
        "# Making the Confusion Matrix\n",
        "from sklearn.metrics import confusion_matrix\n",
        "cm = confusion_matrix(y_test, y_pred)\n"
      ],
      "execution_count": 18,
      "outputs": []
    },
    {
      "cell_type": "code",
      "metadata": {
        "id": "c7XyAMYarNsq",
        "colab_type": "code",
        "colab": {
          "base_uri": "https://localhost:8080/",
          "height": 986
        },
        "outputId": "d6243757-e6e4-4dbd-ceda-2b70496892c5"
      },
      "source": [
        "y_pred\n",
        "\n"
      ],
      "execution_count": 20,
      "outputs": [
        {
          "output_type": "execute_result",
          "data": {
            "text/plain": [
              "array([[ True],\n",
              "       [False],\n",
              "       [False],\n",
              "       [False],\n",
              "       [False],\n",
              "       [False],\n",
              "       [False],\n",
              "       [False],\n",
              "       [False],\n",
              "       [False],\n",
              "       [False],\n",
              "       [False],\n",
              "       [False],\n",
              "       [False],\n",
              "       [False],\n",
              "       [ True],\n",
              "       [False],\n",
              "       [ True],\n",
              "       [ True],\n",
              "       [ True],\n",
              "       [ True],\n",
              "       [ True],\n",
              "       [False],\n",
              "       [False],\n",
              "       [ True],\n",
              "       [False],\n",
              "       [False],\n",
              "       [ True],\n",
              "       [False],\n",
              "       [ True],\n",
              "       [False],\n",
              "       [ True],\n",
              "       [False],\n",
              "       [ True],\n",
              "       [False],\n",
              "       [ True],\n",
              "       [False],\n",
              "       [ True],\n",
              "       [False],\n",
              "       [ True],\n",
              "       [ True],\n",
              "       [False],\n",
              "       [ True],\n",
              "       [False],\n",
              "       [False],\n",
              "       [ True],\n",
              "       [False],\n",
              "       [False],\n",
              "       [False],\n",
              "       [ True],\n",
              "       [ True],\n",
              "       [ True],\n",
              "       [ True],\n",
              "       [False],\n",
              "       [False],\n",
              "       [False],\n",
              "       [False]])"
            ]
          },
          "metadata": {
            "tags": []
          },
          "execution_count": 20
        }
      ]
    },
    {
      "cell_type": "code",
      "metadata": {
        "id": "xQiAmvGGo8Dq",
        "colab_type": "code",
        "colab": {
          "base_uri": "https://localhost:8080/",
          "height": 269
        },
        "outputId": "a62fa8c6-335a-4dac-a46b-ac672e0dc089"
      },
      "source": [
        "sns.heatmap(cm,annot=True)\n",
        "plt.savefig('h.png')\n"
      ],
      "execution_count": 21,
      "outputs": [
        {
          "output_type": "display_data",
          "data": {
            "image/png": "[encoded data removed]",
            "text/plain": [
              "<Figure size 432x288 with 2 Axes>"
            ]
          },
          "metadata": {
            "tags": [],
            "needs_background": "light"
          }
        }
      ]
    },
    {
      "cell_type": "code",
      "metadata": {
        "id": "jYqOWJFlsP7b",
        "colab_type": "code",
        "colab": {
          "base_uri": "https://localhost:8080/",
          "height": 51
        },
        "outputId": "c8fa5c5f-676e-4c1d-fed9-f8c6fc33237d"
      },
      "source": [
        "cm"
      ],
      "execution_count": 22,
      "outputs": [
        {
          "output_type": "execute_result",
          "data": {
            "text/plain": [
              "array([[35,  0],\n",
              "       [ 0, 22]])"
            ]
          },
          "metadata": {
            "tags": []
          },
          "execution_count": 22
        }
      ]
    }
  ]
}